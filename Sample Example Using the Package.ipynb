{
 "cells": [
  {
   "cell_type": "code",
   "execution_count": 35,
   "metadata": {},
   "outputs": [],
   "source": [
    "from DataPrepLSTM.DataPrepLSTM import DataPrepLSTM"
   ]
  },
  {
   "cell_type": "code",
   "execution_count": 36,
   "metadata": {},
   "outputs": [],
   "source": [
    "import pandas as pd\n",
    "from sklearn.model_selection import train_test_split"
   ]
  },
  {
   "cell_type": "markdown",
   "metadata": {},
   "source": [
    "## read the cleaned data:"
   ]
  },
  {
   "cell_type": "code",
   "execution_count": 37,
   "metadata": {},
   "outputs": [],
   "source": [
    "data = pd.read_csv('clean_text.csv')"
   ]
  },
  {
   "cell_type": "code",
   "execution_count": 38,
   "metadata": {},
   "outputs": [
    {
     "data": {
      "text/html": [
       "<div>\n",
       "<style scoped>\n",
       "    .dataframe tbody tr th:only-of-type {\n",
       "        vertical-align: middle;\n",
       "    }\n",
       "\n",
       "    .dataframe tbody tr th {\n",
       "        vertical-align: top;\n",
       "    }\n",
       "\n",
       "    .dataframe thead th {\n",
       "        text-align: right;\n",
       "    }\n",
       "</style>\n",
       "<table border=\"1\" class=\"dataframe\">\n",
       "  <thead>\n",
       "    <tr style=\"text-align: right;\">\n",
       "      <th></th>\n",
       "      <th>Text</th>\n",
       "      <th>Target</th>\n",
       "    </tr>\n",
       "  </thead>\n",
       "  <tbody>\n",
       "    <tr>\n",
       "      <th>0</th>\n",
       "      <td>used victor fly bait seasons ca not beat great...</td>\n",
       "      <td>1</td>\n",
       "    </tr>\n",
       "    <tr>\n",
       "      <th>1</th>\n",
       "      <td>product available victor traps unreal course t...</td>\n",
       "      <td>1</td>\n",
       "    </tr>\n",
       "    <tr>\n",
       "      <th>2</th>\n",
       "      <td>received shipment could hardly wait try produc...</td>\n",
       "      <td>1</td>\n",
       "    </tr>\n",
       "    <tr>\n",
       "      <th>3</th>\n",
       "      <td>really good idea final product outstanding use...</td>\n",
       "      <td>1</td>\n",
       "    </tr>\n",
       "    <tr>\n",
       "      <th>4</th>\n",
       "      <td>good flavor unique teas tried tea effective cl...</td>\n",
       "      <td>1</td>\n",
       "    </tr>\n",
       "  </tbody>\n",
       "</table>\n",
       "</div>"
      ],
      "text/plain": [
       "                                                Text  Target\n",
       "0  used victor fly bait seasons ca not beat great...       1\n",
       "1  product available victor traps unreal course t...       1\n",
       "2  received shipment could hardly wait try produc...       1\n",
       "3  really good idea final product outstanding use...       1\n",
       "4  good flavor unique teas tried tea effective cl...       1"
      ]
     },
     "execution_count": 38,
     "metadata": {},
     "output_type": "execute_result"
    }
   ],
   "source": [
    "data.head()"
   ]
  },
  {
   "cell_type": "markdown",
   "metadata": {},
   "source": [
    "#### There must not be any NAN or Numerical value in the dataset, so drop them"
   ]
  },
  {
   "cell_type": "code",
   "execution_count": 39,
   "metadata": {},
   "outputs": [],
   "source": [
    "data = data.dropna()"
   ]
  },
  {
   "cell_type": "markdown",
   "metadata": {},
   "source": [
    "## divide the dataset into train and test to avoid the data leaking:"
   ]
  },
  {
   "cell_type": "code",
   "execution_count": 40,
   "metadata": {},
   "outputs": [],
   "source": [
    "X_train,X_test,y_train,y_test = train_test_split(data['Text'],data['Target'])"
   ]
  },
  {
   "cell_type": "markdown",
   "metadata": {},
   "source": [
    "### package works only with pandas core dataframe not with series dataframe so converting it into core dataframe"
   ]
  },
  {
   "cell_type": "code",
   "execution_count": 41,
   "metadata": {},
   "outputs": [],
   "source": [
    "X_train = pd.DataFrame(X_train.values)\n",
    "X_test = pd.DataFrame(X_test.values)"
   ]
  },
  {
   "cell_type": "markdown",
   "metadata": {},
   "source": [
    "### After the above preprocessing dataset should look like this:"
   ]
  },
  {
   "cell_type": "code",
   "execution_count": 42,
   "metadata": {},
   "outputs": [
    {
     "data": {
      "text/html": [
       "<div>\n",
       "<style scoped>\n",
       "    .dataframe tbody tr th:only-of-type {\n",
       "        vertical-align: middle;\n",
       "    }\n",
       "\n",
       "    .dataframe tbody tr th {\n",
       "        vertical-align: top;\n",
       "    }\n",
       "\n",
       "    .dataframe thead th {\n",
       "        text-align: right;\n",
       "    }\n",
       "</style>\n",
       "<table border=\"1\" class=\"dataframe\">\n",
       "  <thead>\n",
       "    <tr style=\"text-align: right;\">\n",
       "      <th></th>\n",
       "      <th>0</th>\n",
       "    </tr>\n",
       "  </thead>\n",
       "  <tbody>\n",
       "    <tr>\n",
       "      <th>0</th>\n",
       "      <td>not like carbonated juice although appears jui...</td>\n",
       "    </tr>\n",
       "    <tr>\n",
       "      <th>1</th>\n",
       "      <td>gluten free years thought done mixes tasted aw...</td>\n",
       "    </tr>\n",
       "    <tr>\n",
       "      <th>2</th>\n",
       "      <td>love snacks whole grain organic also love fact...</td>\n",
       "    </tr>\n",
       "    <tr>\n",
       "      <th>3</th>\n",
       "      <td>cant say enought gluten free bisquick husband ...</td>\n",
       "    </tr>\n",
       "    <tr>\n",
       "      <th>4</th>\n",
       "      <td>dog likes iams savory sauce helps tempt eat ap...</td>\n",
       "    </tr>\n",
       "  </tbody>\n",
       "</table>\n",
       "</div>"
      ],
      "text/plain": [
       "                                                   0\n",
       "0  not like carbonated juice although appears jui...\n",
       "1  gluten free years thought done mixes tasted aw...\n",
       "2  love snacks whole grain organic also love fact...\n",
       "3  cant say enought gluten free bisquick husband ...\n",
       "4  dog likes iams savory sauce helps tempt eat ap..."
      ]
     },
     "execution_count": 42,
     "metadata": {},
     "output_type": "execute_result"
    }
   ],
   "source": [
    "X_train.head()"
   ]
  },
  {
   "cell_type": "markdown",
   "metadata": {},
   "source": [
    "## convert the datasetinto LSTM format"
   ]
  },
  {
   "cell_type": "code",
   "execution_count": 43,
   "metadata": {},
   "outputs": [
    {
     "name": "stdout",
     "output_type": "stream",
     "text": [
      "Total Words in the Data-Set:\t 273888\n",
      "**********************************************\n",
      "Total Number of Unique Words in the Data-Set:\t 16096\n",
      "**********************************************\n",
      "Total Number of Unique Words in the Data-Set:\t 273888\n",
      "**********************************************\n"
     ]
    }
   ],
   "source": [
    "obj = DataPrepLSTM(X_train)\n",
    "obj.fit()\n",
    "total_word = obj.wordCount()\n",
    "print(\"Total Words in the Data-Set:\\t\",total_word)\n",
    "print(\"**********************************************\")\n",
    "uniquecount = obj.uniqueCounts()\n",
    "print(\"Total Number of Unique Words in the Data-Set:\\t\",uniquecount)\n",
    "print(\"**********************************************\")\n",
    "wordcount = obj.wordCount()\n",
    "print(\"Total Number of Unique Words in the Data-Set:\\t\",wordcount)\n",
    "print(\"**********************************************\")"
   ]
  },
  {
   "cell_type": "code",
   "execution_count": 44,
   "metadata": {},
   "outputs": [],
   "source": [
    "X_train_lstm = obj.transform(X_train,600) #feature_length = 600\n",
    "X_test_lstm = obj.transform(X_test,600)"
   ]
  },
  {
   "cell_type": "code",
   "execution_count": 45,
   "metadata": {},
   "outputs": [
    {
     "data": {
      "text/plain": [
       "(7154, 600)"
      ]
     },
     "execution_count": 45,
     "metadata": {},
     "output_type": "execute_result"
    }
   ],
   "source": [
    "X_train_lstm.shape"
   ]
  },
  {
   "cell_type": "markdown",
   "metadata": {},
   "source": [
    "### feeding the data to LSTM model"
   ]
  },
  {
   "cell_type": "code",
   "execution_count": 25,
   "metadata": {},
   "outputs": [],
   "source": [
    "# fix random seed for reproducibility\n",
    "import numpy as np\n",
    "np.random.seed(7)\n",
    "import numpy as np\n",
    "from keras.models import Sequential\n",
    "from keras.layers import Dense\n",
    "from keras.layers import LSTM\n",
    "from keras.layers.embeddings import Embedding"
   ]
  },
  {
   "cell_type": "code",
   "execution_count": 32,
   "metadata": {},
   "outputs": [
    {
     "name": "stdout",
     "output_type": "stream",
     "text": [
      "Model: \"sequential_3\"\n",
      "_________________________________________________________________\n",
      "Layer (type)                 Output Shape              Param #   \n",
      "=================================================================\n",
      "embedding_3 (Embedding)      (None, 600, 32)           513248    \n",
      "_________________________________________________________________\n",
      "lstm_3 (LSTM)                (None, 100)               53200     \n",
      "_________________________________________________________________\n",
      "dense_3 (Dense)              (None, 1)                 101       \n",
      "=================================================================\n",
      "Total params: 566,549\n",
      "Trainable params: 566,549\n",
      "Non-trainable params: 0\n",
      "_________________________________________________________________\n",
      "None\n"
     ]
    }
   ],
   "source": [
    "# create the model\n",
    "embedding_vecor_length = 32\n",
    "top_words = uniquecount+1\n",
    "model = Sequential()\n",
    "model.add(Embedding(top_words, embedding_vecor_length, input_length=len(X_train_lstm[0])))\n",
    "model.add(LSTM(100))\n",
    "model.add(Dense(1, activation='sigmoid'))\n",
    "model.compile(loss='binary_crossentropy', optimizer='adam', metrics=['accuracy'])\n",
    "print(model.summary())\n",
    "#Refer: https://datascience.stackexchange.com/questions/10615/number-of-parameters-in-an-lstm-model"
   ]
  },
  {
   "cell_type": "code",
   "execution_count": 33,
   "metadata": {},
   "outputs": [
    {
     "name": "stdout",
     "output_type": "stream",
     "text": [
      "Train on 7154 samples, validate on 2385 samples\n",
      "Epoch 1/10\n",
      "7154/7154 [==============================] - 69s 10ms/step - loss: 0.4482 - accuracy: 0.8334 - val_loss: 0.3273 - val_accuracy: 0.8579\n",
      "Epoch 2/10\n",
      "7154/7154 [==============================] - 74s 10ms/step - loss: 0.2131 - accuracy: 0.9172 - val_loss: 0.2663 - val_accuracy: 0.8872\n",
      "Epoch 3/10\n",
      "7154/7154 [==============================] - 71s 10ms/step - loss: 0.1089 - accuracy: 0.9627 - val_loss: 0.3114 - val_accuracy: 0.8956\n",
      "Epoch 4/10\n",
      "7154/7154 [==============================] - 72s 10ms/step - loss: 0.0597 - accuracy: 0.9813 - val_loss: 0.3403 - val_accuracy: 0.8784\n",
      "Epoch 5/10\n",
      "7154/7154 [==============================] - 72s 10ms/step - loss: 0.0372 - accuracy: 0.9892 - val_loss: 0.3513 - val_accuracy: 0.8931\n",
      "Epoch 6/10\n",
      "7154/7154 [==============================] - 72s 10ms/step - loss: 0.0204 - accuracy: 0.9947 - val_loss: 0.4107 - val_accuracy: 0.8839\n",
      "Epoch 7/10\n",
      "7154/7154 [==============================] - 71s 10ms/step - loss: 0.0123 - accuracy: 0.9968 - val_loss: 0.4888 - val_accuracy: 0.8818\n",
      "Epoch 8/10\n",
      "7154/7154 [==============================] - 72s 10ms/step - loss: 0.0064 - accuracy: 0.9985 - val_loss: 0.6259 - val_accuracy: 0.8834\n",
      "Epoch 9/10\n",
      "7154/7154 [==============================] - 71s 10ms/step - loss: 0.0091 - accuracy: 0.9976 - val_loss: 0.5694 - val_accuracy: 0.8868\n",
      "Epoch 10/10\n",
      "7154/7154 [==============================] - 71s 10ms/step - loss: 0.0019 - accuracy: 0.9997 - val_loss: 0.6473 - val_accuracy: 0.8851\n"
     ]
    }
   ],
   "source": [
    "history = model.fit(X_train_lstm, y_train, nb_epoch=10, batch_size=64,validation_data=(X_test_lstm,y_test))"
   ]
  }
 ],
 "metadata": {
  "kernelspec": {
   "display_name": "Python 3",
   "language": "python",
   "name": "python3"
  },
  "language_info": {
   "codemirror_mode": {
    "name": "ipython",
    "version": 3
   },
   "file_extension": ".py",
   "mimetype": "text/x-python",
   "name": "python",
   "nbconvert_exporter": "python",
   "pygments_lexer": "ipython3",
   "version": "3.6.1"
  }
 },
 "nbformat": 4,
 "nbformat_minor": 2
}
